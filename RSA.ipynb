{
 "cells": [
  {
   "cell_type": "markdown",
   "metadata": {},
   "source": [
    "# Importing dependencies"
   ]
  },
  {
   "cell_type": "code",
   "execution_count": 1,
   "metadata": {
    "scrolled": true
   },
   "outputs": [],
   "source": [
    "from scipy.io import wavfile\n",
    "import numpy as np\n",
    "import matplotlib.pyplot as plt\n",
    "import sounddevice as sd"
   ]
  },
  {
   "cell_type": "markdown",
   "metadata": {},
   "source": [
    "## Taking input"
   ]
  },
  {
   "cell_type": "code",
   "execution_count": 2,
   "metadata": {
    "scrolled": false
   },
   "outputs": [
    {
     "data": {
      "image/png": "[encoded data removed]",
      "text/plain": [
       "<Figure size 432x288 with 1 Axes>"
      ]
     },
     "metadata": {
      "needs_background": "light"
     },
     "output_type": "display_data"
    }
   ],
   "source": [
    "fs, data = wavfile.read('audio.wav')\n",
    "plt.plot(data)            # fs = sampling frequency = 44.1kHz\n",
    "plt.title(\"Original Audio Plot\")\n",
    "data_1 = np.asarray(data, dtype = np.int32)"
   ]
  },
  {
   "cell_type": "markdown",
   "metadata": {},
   "source": [
    "## Playing that sound"
   ]
  },
  {
   "cell_type": "code",
   "execution_count": 3,
   "metadata": {},
   "outputs": [],
   "source": [
    "sd.play(data, fs)"
   ]
  },
  {
   "cell_type": "markdown",
   "metadata": {},
   "source": [
    "## Generating public and private keys for RSA algorithm"
   ]
  },
  {
   "cell_type": "markdown",
   "metadata": {},
   "source": [
    "Select two prime no's. Suppose P = 53 and Q = 59.\n",
    "\n",
    "Now First part of the Public key  : n = P*Q = 3127.\n",
    "\n",
    "We also need a small exponent say e : \n",
    "But e Must be \n",
    "\n",
    "    1) An integer.\n",
    "\n",
    "    2) Not be a factor of n.\n",
    " \n",
    "    3) 1 < e < Φ(n) [Φ(n) is discussed below], \n",
    "    Let us now consider it to be equal to 3.\n",
    "    \n",
    "Our Public Key is made of n and e"
   ]
  },
  {
   "cell_type": "markdown",
   "metadata": {},
   "source": [
    "1) We need to calculate Φ(n):\n",
    "    \n",
    "    Such that Φ(n) = (P-1)(Q-1)     \n",
    "      so,  Φ(n) = 3016\n",
    "\n",
    "    \n",
    "2) Now calculate Private Key, d : \n",
    "    \n",
    "    d = (k*Φ(n) + 1) / e for some integer k\n",
    "    For k = 2, value of d is 2011."
   ]
  },
  {
   "cell_type": "code",
   "execution_count": 4,
   "metadata": {},
   "outputs": [
    {
     "name": "stdout",
     "output_type": "stream",
     "text": [
      "Enter a prime number: 3\n",
      "Enter another prime number: 7\n",
      "n = p1*p2 =  21\n"
     ]
    }
   ],
   "source": [
    "p1 = int(input(\"Enter a prime number: \"))\n",
    "p2 = int(input(\"Enter another prime number: \"))\n",
    "\n",
    "n = p1*p2\n",
    "print(\"n = p1*p2 = \",n)"
   ]
  },
  {
   "cell_type": "code",
   "execution_count": 5,
   "metadata": {
    "scrolled": true
   },
   "outputs": [
    {
     "name": "stdout",
     "output_type": "stream",
     "text": [
      "Enter a small, odd number, co-prime with n: 1\n",
      "Enter value of k:5\n"
     ]
    }
   ],
   "source": [
    "e = int(input(\"Enter a small, odd number, co-prime with n: \"))\n",
    "k = int(input(\"Enter value of k:\"))"
   ]
  },
  {
   "cell_type": "code",
   "execution_count": 6,
   "metadata": {},
   "outputs": [
    {
     "name": "stdout",
     "output_type": "stream",
     "text": [
      "phi =  12\n",
      "d=  61\n"
     ]
    }
   ],
   "source": [
    "phi = (p1-1)*(p2-1)\n",
    "print(\"phi = \",phi)\n",
    "d = int((k*phi+1)/e)\n",
    "print(\"d= \",d)"
   ]
  },
  {
   "cell_type": "code",
   "execution_count": 7,
   "metadata": {},
   "outputs": [
    {
     "name": "stdout",
     "output_type": "stream",
     "text": [
      "Public Key =  (21, 1)\n",
      "Private Key =  (21, 61)\n"
     ]
    }
   ],
   "source": [
    "public_key = n,e\n",
    "private_key = n,d\n",
    "\n",
    "print(\"Public Key = \", public_key)\n",
    "print(\"Private Key = \",private_key)"
   ]
  },
  {
   "cell_type": "markdown",
   "metadata": {},
   "source": [
    "## Encrpytion of audio file"
   ]
  },
  {
   "cell_type": "code",
   "execution_count": 8,
   "metadata": {},
   "outputs": [
    {
     "data": {
      "text/plain": [
       "Text(0.5, 1.0, 'Encrypted Audio Plot')"
      ]
     },
     "execution_count": 8,
     "metadata": {},
     "output_type": "execute_result"
    },
    {
     "data": {
      "image/png": "[encoded data removed]",
      "text/plain": [
       "<Figure size 432x288 with 1 Axes>"
      ]
     },
     "metadata": {
      "needs_background": "light"
     },
     "output_type": "display_data"
    }
   ],
   "source": [
    "encrypted = (data**e)%n\n",
    "plt.plot(encrypted)\n",
    "plt.title(\"Encrypted Audio Plot\")"
   ]
  },
  {
   "cell_type": "markdown",
   "metadata": {},
   "source": [
    "## Saving the saved file"
   ]
  },
  {
   "cell_type": "code",
   "execution_count": 9,
   "metadata": {},
   "outputs": [
    {
     "name": "stdout",
     "output_type": "stream",
     "text": [
      "A file titled 'encrypted_rsa.wav' is generated which is the encrypted audio to be communicated\n"
     ]
    }
   ],
   "source": [
    "encrypted = np.asarray(encrypted, dtype=np.int16)\n",
    "wavfile.write('encrypted_rsa.wav', fs, encrypted)\n",
    "print(\"A file titled 'encrypted_rsa.wav' is generated which is the encrypted audio to be communicated\")"
   ]
  },
  {
   "cell_type": "markdown",
   "metadata": {},
   "source": [
    "## Loading and decrypting"
   ]
  },
  {
   "cell_type": "code",
   "execution_count": 10,
   "metadata": {},
   "outputs": [
    {
     "data": {
      "text/plain": [
       "Text(0.5, 1.0, 'Encrypted Audio Plot')"
      ]
     },
     "execution_count": 10,
     "metadata": {},
     "output_type": "execute_result"
    },
    {
     "data": {
      "image/png": "[encoded data removed]",
      "text/plain": [
       "<Figure size 432x288 with 1 Axes>"
      ]
     },
     "metadata": {
      "needs_background": "light"
     },
     "output_type": "display_data"
    }
   ],
   "source": [
    "fs, Data = wavfile.read('encrypted_rsa.wav')\n",
    "plt.plot(Data)\n",
    "plt.title(\"Encrypted Audio Plot\")"
   ]
  },
  {
   "cell_type": "markdown",
   "metadata": {},
   "source": [
    "## Decryption of data"
   ]
  },
  {
   "cell_type": "code",
   "execution_count": 11,
   "metadata": {},
   "outputs": [
    {
     "data": {
      "text/plain": [
       "Text(0.5, 1.0, 'Decrypted Audio Plot')"
      ]
     },
     "execution_count": 11,
     "metadata": {},
     "output_type": "execute_result"
    },
    {
     "data": {
      "image/png": "[encoded data removed]",
      "text/plain": [
       "<Figure size 432x288 with 1 Axes>"
      ]
     },
     "metadata": {
      "needs_background": "light"
     },
     "output_type": "display_data"
    }
   ],
   "source": [
    "decrypted = (Data**d)%n\n",
    "plt.plot(decrypted)\n",
    "plt.title('Decrypted Audio Plot')"
   ]
  },
  {
   "cell_type": "code",
   "execution_count": 13,
   "metadata": {},
   "outputs": [],
   "source": [
    "sd.play(encrypted, fs)"
   ]
  },
  {
   "cell_type": "code",
   "execution_count": null,
   "metadata": {},
   "outputs": [],
   "source": []
  }
 ],
 "metadata": {
  "kernelspec": {
   "display_name": "Python 3",
   "language": "python",
   "name": "python3"
  },
  "language_info": {
   "codemirror_mode": {
    "name": "ipython",
    "version": 3
   },
   "file_extension": ".py",
   "mimetype": "text/x-python",
   "name": "python",
   "nbconvert_exporter": "python",
   "pygments_lexer": "ipython3",
   "version": "3.7.4"
  }
 },
 "nbformat": 4,
 "nbformat_minor": 4
}
